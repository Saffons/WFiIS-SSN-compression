{
  "cells": [
    {
      "attachments": {},
      "cell_type": "markdown",
      "metadata": {},
      "source": [
        "1. Kompresja obrazów z użyciem sieci neuronowej  \n",
        "\n",
        "·         Zbiór danych Fashion-MNIST  \n",
        "\n",
        "·         Budujemy sieć neuronową dla kompresji danych, a następnie próbujemy sprawdzić czy sieć jest wstanie rozpoznać (poprawnie skwalifikować) dane z dekodera. Proszę również pokazać że sieć do kompresji można „rozciąć” na układ koder-dekoder. \n",
        "\n",
        "Tworzymy auto-enkoder i w pierwszej kolejności chcemy pokazać zależność błędu pomiędzy wyjściem a wejściem w stosunku do stopnia kompresji, \n",
        "\n",
        "Następnie patrzymy dla jakiś sensownych – wybranych - punktów z powyższej krzywej jak wygląda klasyfikacja danych zakodowanych.        Dla każdego wyniku stosujemy różne miary błędu (ewaluacji) MSE, macierz pomyłek, krzywe ROC,  specyficzność czułość, pole pod ROC itp.  \n",
        "\n",
        "·         Wyniki proszę porównać z istniejącymi w literaturze.  "
      ]
    },
    {
      "cell_type": "code",
      "execution_count": 1,
      "metadata": {
        "colab": {
          "base_uri": "https://localhost:8080/"
        },
        "id": "awBQgr7nu_rL",
        "outputId": "e6cbb243-f66b-4172-f56c-ff02b4ad8bcc"
      },
      "outputs": [
        {
          "name": "stdout",
          "output_type": "stream",
          "text": [
            "Train dataset shape: (60000, 28, 28) (60000,)\n",
            "Test dataset shape: (10000, 28, 28) (10000,)\n"
          ]
        }
      ],
      "source": [
        "import math\n",
        "import numpy as np\n",
        "import tensorflow as tf\n",
        "import matplotlib.pyplot as plt\n",
        "from keras.optimizers import RMSprop,Adam\n",
        "from sklearn.model_selection import train_test_split\n",
        "from keras.layers import Dense, Conv2D, Activation, MaxPool2D, Flatten, Dropout, BatchNormalization\n",
        "\n",
        "# loading dataset\n",
        "(X, Y), (x_test, y_test) = tf.keras.datasets.fashion_mnist.load_data()\n",
        "\n",
        "print(\"Train dataset shape:\", X.shape, Y.shape)\n",
        "print(\"Test dataset shape:\", x_test.shape, y_test.shape)"
      ]
    },
    {
      "attachments": {},
      "cell_type": "markdown",
      "metadata": {
        "id": "ZfJQZZBaOvzr"
      },
      "source": [
        "# Uczenie modelu na oryginalnym zbiorze danych\n",
        "\n",
        "*   Element listy\n",
        "*   Element listy\n",
        "\n"
      ]
    },
    {
      "cell_type": "code",
      "execution_count": null,
      "metadata": {
        "id": "xub9SWBGOobG"
      },
      "outputs": [],
      "source": [
        "# preprocessing data\n",
        "X = X / 255.0\n",
        "x_test = x_test / 255.0\n",
        "train_size = X.shape[0]\n",
        "test_size = x_test.shape[0]\n",
        "img_shape = X.shape[1]\n",
        "\n",
        "x_train_array = X.reshape(train_size, img_shape, img_shape, 1)\n",
        "x_test_array = x_test.reshape(test_size, img_shape, img_shape, 1)"
      ]
    },
    {
      "cell_type": "code",
      "execution_count": null,
      "metadata": {
        "id": "PdwM5nhlk-9h"
      },
      "outputs": [],
      "source": [
        "# preprocessing lables\n",
        "class_names = ['T-shirt/top', 'Trouser', 'Pullover', 'Dress', 'Coat',\n",
        "               'Sandal',      'Shirt',   'Sneaker',  'Bag',   'Ankle boot']\n",
        "num_classes = len(class_names)\n",
        "Y_ohe = tf.keras.utils.to_categorical(Y, 10)\n",
        "y_test = tf.keras.utils.to_categorical(y_test, 10)"
      ]
    },
    {
      "cell_type": "code",
      "execution_count": null,
      "metadata": {
        "id": "AIY5zDIMk_n2"
      },
      "outputs": [],
      "source": [
        "# prepering for data for training\n",
        "validation = 0.2\n",
        "batch_size = 64\n",
        "num_epochs = 5\n",
        "patience = 10\n",
        "\n",
        "x_train, x_val, y_train, y_val = train_test_split(x_train_array, Y_ohe, test_size=validation)"
      ]
    },
    {
      "cell_type": "code",
      "execution_count": null,
      "metadata": {
        "colab": {
          "base_uri": "https://localhost:8080/"
        },
        "id": "M035gQpkpSCN",
        "outputId": "3c900bcd-ff2f-4047-9fef-56d8b4e25b15"
      },
      "outputs": [
        {
          "name": "stdout",
          "output_type": "stream",
          "text": [
            "Model: \"sequential\"\n",
            "_________________________________________________________________\n",
            " Layer (type)                Output Shape              Param #   \n",
            "=================================================================\n",
            " conv2d (Conv2D)             (None, 28, 28, 32)        320       \n",
            "                                                                 \n",
            " max_pooling2d (MaxPooling2D  (None, 14, 14, 32)       0         \n",
            " )                                                               \n",
            "                                                                 \n",
            " conv2d_1 (Conv2D)           (None, 14, 14, 64)        18496     \n",
            "                                                                 \n",
            " max_pooling2d_1 (MaxPooling  (None, 7, 7, 64)         0         \n",
            " 2D)                                                             \n",
            "                                                                 \n",
            " flatten (Flatten)           (None, 3136)              0         \n",
            "                                                                 \n",
            " dense (Dense)               (None, 128)               401536    \n",
            "                                                                 \n",
            " dense_1 (Dense)             (None, 10)                1290      \n",
            "                                                                 \n",
            "=================================================================\n",
            "Total params: 421,642\n",
            "Trainable params: 421,642\n",
            "Non-trainable params: 0\n",
            "_________________________________________________________________\n"
          ]
        }
      ],
      "source": [
        "# building model\n",
        "model = tf.keras.Sequential()\n",
        "model.add(Conv2D(32, (3,3), padding='same', input_shape=(28,28, 1)))\n",
        "model.add(tf.keras.layers.MaxPooling2D(pool_size=(2, 2)))\n",
        "model.add(Flatten())\n",
        "model.add(Dense(128, activation=tf.nn.relu))\n",
        "model.add(Dense(10, activation=tf.nn.softmax))\n",
        "\n",
        "model.summary()"
      ]
    },
    {
      "cell_type": "code",
      "execution_count": null,
      "metadata": {
        "colab": {
          "base_uri": "https://localhost:8080/"
        },
        "id": "xyP-_OBdzGnU",
        "outputId": "ca0497c3-5f27-4922-936d-a5b2e40e948d"
      },
      "outputs": [
        {
          "name": "stdout",
          "output_type": "stream",
          "text": [
            "Epoch 1/5\n",
            "750/750 [==============================] - 69s 90ms/step - loss: 0.4535 - accuracy: 0.8387 - val_loss: 0.3271 - val_accuracy: 0.8850\n",
            "Epoch 2/5\n",
            "750/750 [==============================] - 66s 87ms/step - loss: 0.3022 - accuracy: 0.8912 - val_loss: 0.2720 - val_accuracy: 0.9028\n",
            "Epoch 3/5\n",
            "750/750 [==============================] - 66s 88ms/step - loss: 0.2570 - accuracy: 0.9063 - val_loss: 0.2661 - val_accuracy: 0.9032\n",
            "Epoch 4/5\n",
            "750/750 [==============================] - 66s 87ms/step - loss: 0.2240 - accuracy: 0.9178 - val_loss: 0.2474 - val_accuracy: 0.9133\n",
            "Epoch 5/5\n",
            "750/750 [==============================] - 70s 94ms/step - loss: 0.2002 - accuracy: 0.9260 - val_loss: 0.2423 - val_accuracy: 0.9131\n"
          ]
        }
      ],
      "source": [
        "early_stop = tf.keras.callbacks.EarlyStopping(monitor='loss', patience=patience)\n",
        "\n",
        "model.compile(optimizer='adam',\n",
        "              loss=tf.keras.losses.categorical_crossentropy,\n",
        "              metrics=['accuracy'])\n",
        "\n",
        "train_model = model.fit( x_train, y_train,\n",
        "                  batch_size=batch_size,\n",
        "                  epochs=num_epochs,\n",
        "                  verbose=1,\n",
        "                  validation_data=(x_val, y_val),\n",
        "                  callbacks=[early_stop])"
      ]
    },
    {
      "cell_type": "code",
      "execution_count": null,
      "metadata": {
        "colab": {
          "base_uri": "https://localhost:8080/"
        },
        "id": "wvUFSU6d3_gX",
        "outputId": "4f92d102-d5e7-467a-ee41-81d3be067eb5"
      },
      "outputs": [
        {
          "name": "stdout",
          "output_type": "stream",
          "text": [
            "313/313 [==============================] - 5s 15ms/step - loss: 0.2670 - accuracy: 0.9041\n",
            "Test loss: 0.26704004406929016\n",
            "Test accuracy: 0.9041000008583069\n"
          ]
        }
      ],
      "source": [
        "score = model.evaluate(x_test_array, y_test, steps=math.ceil(10000/32))\n",
        "# checking the test loss and test accuracy\n",
        "print('Test loss:', score[0])\n",
        "print('Test accuracy:', score[1])"
      ]
    },
    {
      "cell_type": "code",
      "execution_count": null,
      "metadata": {},
      "outputs": [],
      "source": [
        "def make_and_fit():\n",
        "    inputs = Input(shape=(28, 28, 1))\n",
        "\n",
        "    en_conv1 = Conv2D(32, (3, 3), activation='relu', padding='same')(inputs)\n",
        "    en_conv1 = BatchNormalization()(en_conv1)\n",
        "    en_conv1 = Conv2D(32, (3, 3), activation='relu', padding='same')(en_conv1)\n",
        "    en_conv1 = BatchNormalization()(en_conv1)\n",
        "    en_pool1 = MaxPooling2D(pool_size=(2, 2))(en_conv1)\n",
        "    en_conv2 = Conv2D(64, (3, 3), activation='relu', padding='same')(en_pool1)\n",
        "    en_conv2 = BatchNormalization()(en_conv2)\n",
        "    en_conv2 = Conv2D(64, (3, 3), activation='relu', padding='same')(en_conv2)\n",
        "    en_conv2 = BatchNormalization()(en_conv2)\n",
        "    en_pool2 = MaxPooling2D(pool_size=(2, 2))(en_conv2)\n",
        "    en_conv3 = Conv2D(128, (3, 3), activation='relu', padding='same')(en_pool2)\n",
        "    en_conv3 = BatchNormalization()(en_conv3)\n",
        "    en_conv3 = Conv2D(128, (3, 3), activation='relu', padding='same')(en_conv3)\n",
        "    encoded = BatchNormalization()(en_conv3)\n",
        "    \n",
        "    encoder = Model(inputs=inputs, outputs=encoded)\n",
        "    \n",
        "    de_conv1 = Conv2D(128, (3, 3), activation='relu', padding='same')(encoded)\n",
        "    de_conv1 = BatchNormalization()(de_conv1)\n",
        "    de_conv1 = Conv2D(128, (3, 3), activation='relu', padding='same')(de_conv1)\n",
        "    de_conv1 = BatchNormalization()(de_conv1)\n",
        "    up1 = UpSampling2D((2, 2))(de_conv1)\n",
        "    de_conv2 = Conv2D(64, (3, 3), activation='relu', padding='same')(up1)\n",
        "    de_conv2 = BatchNormalization()(de_conv2)\n",
        "    de_conv2 = Conv2D(64, (3, 3), activation='relu', padding='same')(de_conv2)\n",
        "    de_conv2 = BatchNormalization()(de_conv2)\n",
        "    up2 = UpSampling2D((2, 2))(de_conv2)\n",
        "    de_conv3 = Conv2D(32, (3, 3), activation='relu', padding='same')(up2)\n",
        "    de_conv3 = BatchNormalization()(de_conv3)\n",
        "    de_conv3 = Conv2D(32, (3, 3), activation='relu', padding='same')(de_conv3)\n",
        "    de_conv3 = BatchNormalization()(de_conv3)\n",
        "    decoded = Conv2D(1, (3, 3), activation='sigmoid', padding='same')(de_conv3)\n",
        "    decoder = Model(inputs=encoded, outputs=decoded)\n",
        "    \n",
        "    x = encoder(inputs)\n",
        "    x = decoder(x)\n",
        "    model = Model(inputs=inputs, outputs=x)\n",
        "    model.compile(optimizer=optimizers.Adam(1e-3), loss='binary_crossentropy', metrics=['accuracy', 'mse'])\n",
        "\n",
        "    print(model.summary())\n",
        "    \n",
        "    clr = ReduceLROnPlateau(\n",
        "        monitor='loss',\n",
        "        factor=0.5,\n",
        "        patience=3,\n",
        "        min_delta=0.01,\n",
        "        cooldown=0,\n",
        "        min_lr=1e-7,\n",
        "        verbose=1)\n",
        "\n",
        "    model.fit(\n",
        "        x_train,\n",
        "        x_train,\n",
        "        batch_size=256,\n",
        "        epochs=50,\n",
        "        shuffle=True,\n",
        "        validation_data=(x_test, x_test),\n",
        "        callbacks=[clr])\n",
        "\n",
        "    return model, encoder, decoder\n",
        "\n",
        "model, encoder, decoder = make_and_fit()"
      ]
    }
  ],
  "metadata": {
    "colab": {
      "provenance": []
    },
    "kernelspec": {
      "display_name": "Python 3",
      "name": "python3"
    },
    "language_info": {
      "codemirror_mode": {
        "name": "ipython",
        "version": 3
      },
      "file_extension": ".py",
      "mimetype": "text/x-python",
      "name": "python",
      "nbconvert_exporter": "python",
      "pygments_lexer": "ipython3",
      "version": "3.11.0"
    }
  },
  "nbformat": 4,
  "nbformat_minor": 0
}
