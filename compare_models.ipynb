{
  "nbformat": 4,
  "nbformat_minor": 0,
  "metadata": {
    "colab": {
      "provenance": [],
      "gpuType": "T4"
    },
    "kernelspec": {
      "name": "python3",
      "display_name": "Python 3"
    },
    "language_info": {
      "name": "python"
    },
    "accelerator": "GPU"
  },
  "cells": [
    {
      "cell_type": "code",
      "execution_count": 17,
      "metadata": {
        "colab": {
          "base_uri": "https://localhost:8080/"
        },
        "id": "Ukpj_vhSvlZs",
        "outputId": "5ac55a6e-3bfc-4cb0-e1a6-365f341866d5"
      },
      "outputs": [
        {
          "output_type": "stream",
          "name": "stdout",
          "text": [
            "Drive already mounted at /content/drive; to attempt to forcibly remount, call drive.mount(\"/content/drive\", force_remount=True).\n",
            "Train dataset shape: (60000, 28, 28) (60000,)\n",
            "Test dataset shape: (10000, 28, 28) (10000,)\n"
          ]
        }
      ],
      "source": [
        "import math\n",
        "import numpy as np\n",
        "import tensorflow as tf\n",
        "import matplotlib.pyplot as plt\n",
        "from keras.optimizers import RMSprop,Adam\n",
        "from sklearn.model_selection import train_test_split\n",
        "from keras.layers import Dense, Conv2D, Activation, MaxPool2D, Flatten, Dropout, BatchNormalization\n",
        "import os\n",
        "from keras import backend as K\n",
        "import matplotlib.pyplot as plt\n",
        "from google.colab import drive\n",
        "\n",
        "drive.mount('/content/drive')\n",
        "\n",
        "# loading dataset\n",
        "(X, Y), (x_test, y_test) = tf.keras.datasets.fashion_mnist.load_data()\n",
        "\n",
        "(X_2, Y_2), (x_test_2, y_test_2) = tf.keras.datasets.fashion_mnist.load_data()\n",
        "\n",
        "print(\"Train dataset shape:\", X.shape, Y.shape)\n",
        "print(\"Test dataset shape:\", x_test.shape, y_test.shape)\n"
      ]
    },
    {
      "cell_type": "code",
      "source": [
        "# preprocessing data\n",
        "X = X / 255.0\n",
        "x_test = x_test / 255.0\n",
        "\n",
        "\n",
        "X_2 = X_2 / 255.0\n",
        "x_test_2 = x_test_2 / 255.0\n",
        "\n",
        "train_size = X.shape[0]\n",
        "test_size = x_test.shape[0]\n",
        "img_shape = X.shape[1]\n",
        "\n",
        "x_train_array = X.reshape(train_size, img_shape, img_shape, 1)\n",
        "x_test_array = x_test.reshape(test_size, img_shape, img_shape, 1)\n",
        "\n",
        "x_train_array_2 = X_2.reshape(train_size, img_shape, img_shape, 1)\n",
        "x_test_array_2 = x_test_2.reshape(test_size, img_shape, img_shape, 1)"
      ],
      "metadata": {
        "id": "5JAlDUN2vn_c"
      },
      "execution_count": 18,
      "outputs": []
    },
    {
      "cell_type": "code",
      "source": [
        "# preprocessing lables\n",
        "class_names = ['T-shirt/top', 'Trouser', 'Pullover', 'Dress', 'Coat',\n",
        "               'Sandal',      'Shirt',   'Sneaker',  'Bag',   'Ankle boot']\n",
        "num_classes = len(class_names)\n",
        "Y_ohe = tf.keras.utils.to_categorical(Y, 10)\n",
        "y_test = tf.keras.utils.to_categorical(y_test, 10)\n",
        "\n",
        "\n",
        "Y_ohe_2 = tf.keras.utils.to_categorical(Y_2, 10)\n",
        "y_test_2 = tf.keras.utils.to_categorical(y_test_2, 10)"
      ],
      "metadata": {
        "id": "bF8tvNquvpbI"
      },
      "execution_count": 19,
      "outputs": []
    },
    {
      "cell_type": "code",
      "source": [
        "x_train, x_val, y_train, y_val = train_test_split(x_train_array, Y_ohe, test_size=validation)\n",
        "x_train_2, x_val_2, y_train_2, y_val_2 = train_test_split(x_train_array_2, Y_ohe_2, test_size=validation)\n",
        "\n",
        "def psnr(y_true, y_pred):\n",
        "          mse = tf.keras.metrics.mean_squared_error(y_true, y_pred)\n",
        "          psnr = 10 * tf.experimental.numpy.log10(1.0 / tf.math.sqrt(mse))\n",
        "          return psnr\n",
        "\n",
        "def cmse(y_true, y_pred):\n",
        "          local_diff = tf.abs(y_true - y_pred)\n",
        "          num_pixels = tf.size(local_diff)\n",
        "          num_pixels_to_consider = num_pixels // 2\n",
        "          local_diff_flat = K.flatten(local_diff)\n",
        "          threshold_diff, _ = tf.nn.top_k(local_diff_flat, k=num_pixels_to_consider, sorted=True)\n",
        "          filtered_diff = tf.where(local_diff_flat >= threshold_diff[-1], local_diff_flat, tf.zeros_like(local_diff_flat))\n",
        "          cmse = 2*K.mean(K.square(filtered_diff)) - tf.keras.metrics.mean_squared_error(y_true, y_pred)\n",
        "          return cmse\n",
        "\n",
        "\n",
        "folder_base = \"/content/drive/My Drive/SSN Projekt/\"\n",
        "dependencies = {\n",
        "    'psnr': psnr,\n",
        "    'cmse': cmse\n",
        "}\n",
        "\n",
        "autoenkoder = tf.keras.saving.load_model(os.path.join(folder_base, \"MaxPooling2D\", \"49\", \"model.h5\"), custom_objects=dependencies)\n",
        "\n",
        "x_train_2 = autoenkoder.predict(x_train_2)\n",
        "x_val_2 = autoenkoder.predict(x_val_2)\n",
        "x_test_array_2 = autoenkoder.predict(x_test_array_2)"
      ],
      "metadata": {
        "id": "m0hSD2AnvqoL",
        "colab": {
          "base_uri": "https://localhost:8080/"
        },
        "outputId": "124a0eb1-f08f-4c50-a03c-141b94c731d6"
      },
      "execution_count": 20,
      "outputs": [
        {
          "output_type": "stream",
          "name": "stdout",
          "text": [
            "1500/1500 [==============================] - 18s 12ms/step\n",
            "375/375 [==============================] - 4s 11ms/step\n",
            "313/313 [==============================] - 4s 11ms/step\n"
          ]
        }
      ]
    },
    {
      "cell_type": "code",
      "source": [
        "# prepering for data for training\n",
        "validation = 0.2\n",
        "batch_size = 64\n",
        "num_epochs = 20\n",
        "patience = 5\n",
        "\n",
        "# building model\n",
        "model = tf.keras.Sequential()\n",
        "model.add(Conv2D(32, (3,3), padding='same', input_shape=(28,28, 1)))\n",
        "model.add(tf.keras.layers.MaxPooling2D(pool_size=(2, 2)))\n",
        "model.add(Flatten())\n",
        "model.add(Dense(128, activation=tf.nn.relu))\n",
        "model.add(Dense(10, activation=tf.nn.softmax))\n",
        "model.summary()\n",
        "\n",
        "early_stop = tf.keras.callbacks.EarlyStopping(monitor='loss', patience=patience)\n",
        "\n",
        "model.compile(optimizer='adam',\n",
        "              loss=tf.keras.losses.categorical_crossentropy,\n",
        "              metrics=['accuracy'])\n",
        "\n",
        "train_model = model.fit( x_train_2, y_train_2,\n",
        "                  batch_size=batch_size,\n",
        "                  epochs=num_epochs,\n",
        "                  validation_data=(x_val_2, y_val_2),\n",
        "                  callbacks=[early_stop])"
      ],
      "metadata": {
        "id": "mlcKD_a_vylG",
        "colab": {
          "base_uri": "https://localhost:8080/"
        },
        "outputId": "edc1f86b-b8d5-426e-dc4e-a88d096b8d40"
      },
      "execution_count": 21,
      "outputs": [
        {
          "output_type": "stream",
          "name": "stdout",
          "text": [
            "Model: \"sequential_2\"\n",
            "_________________________________________________________________\n",
            " Layer (type)                Output Shape              Param #   \n",
            "=================================================================\n",
            " conv2d_2 (Conv2D)           (None, 28, 28, 32)        320       \n",
            "                                                                 \n",
            " max_pooling2d_2 (MaxPooling  (None, 14, 14, 32)       0         \n",
            " 2D)                                                             \n",
            "                                                                 \n",
            " flatten_2 (Flatten)         (None, 6272)              0         \n",
            "                                                                 \n",
            " dense_4 (Dense)             (None, 128)               802944    \n",
            "                                                                 \n",
            " dense_5 (Dense)             (None, 10)                1290      \n",
            "                                                                 \n",
            "=================================================================\n",
            "Total params: 804,554\n",
            "Trainable params: 804,554\n",
            "Non-trainable params: 0\n",
            "_________________________________________________________________\n",
            "Epoch 1/20\n",
            "750/750 [==============================] - 5s 5ms/step - loss: 0.4656 - accuracy: 0.8345 - val_loss: 0.3889 - val_accuracy: 0.8547\n",
            "Epoch 2/20\n",
            "750/750 [==============================] - 4s 5ms/step - loss: 0.3469 - accuracy: 0.8720 - val_loss: 0.3372 - val_accuracy: 0.8749\n",
            "Epoch 3/20\n",
            "750/750 [==============================] - 3s 4ms/step - loss: 0.3111 - accuracy: 0.8838 - val_loss: 0.3348 - val_accuracy: 0.8725\n",
            "Epoch 4/20\n",
            "750/750 [==============================] - 3s 4ms/step - loss: 0.2865 - accuracy: 0.8924 - val_loss: 0.3132 - val_accuracy: 0.8857\n",
            "Epoch 5/20\n",
            "750/750 [==============================] - 3s 4ms/step - loss: 0.2697 - accuracy: 0.8992 - val_loss: 0.3308 - val_accuracy: 0.8791\n",
            "Epoch 6/20\n",
            "750/750 [==============================] - 4s 5ms/step - loss: 0.2520 - accuracy: 0.9050 - val_loss: 0.3189 - val_accuracy: 0.8824\n",
            "Epoch 7/20\n",
            "750/750 [==============================] - 3s 4ms/step - loss: 0.2387 - accuracy: 0.9099 - val_loss: 0.3227 - val_accuracy: 0.8851\n",
            "Epoch 8/20\n",
            "750/750 [==============================] - 3s 4ms/step - loss: 0.2250 - accuracy: 0.9151 - val_loss: 0.3204 - val_accuracy: 0.8826\n",
            "Epoch 9/20\n",
            "750/750 [==============================] - 3s 4ms/step - loss: 0.2123 - accuracy: 0.9196 - val_loss: 0.3102 - val_accuracy: 0.8909\n",
            "Epoch 10/20\n",
            "750/750 [==============================] - 4s 5ms/step - loss: 0.2012 - accuracy: 0.9247 - val_loss: 0.3151 - val_accuracy: 0.8894\n",
            "Epoch 11/20\n",
            "750/750 [==============================] - 3s 5ms/step - loss: 0.1897 - accuracy: 0.9274 - val_loss: 0.3283 - val_accuracy: 0.8827\n",
            "Epoch 12/20\n",
            "750/750 [==============================] - 3s 4ms/step - loss: 0.1806 - accuracy: 0.9317 - val_loss: 0.3266 - val_accuracy: 0.8896\n",
            "Epoch 13/20\n",
            "750/750 [==============================] - 3s 4ms/step - loss: 0.1685 - accuracy: 0.9364 - val_loss: 0.3383 - val_accuracy: 0.8876\n",
            "Epoch 14/20\n",
            "750/750 [==============================] - 4s 5ms/step - loss: 0.1594 - accuracy: 0.9400 - val_loss: 0.3384 - val_accuracy: 0.8903\n",
            "Epoch 15/20\n",
            "750/750 [==============================] - 3s 4ms/step - loss: 0.1497 - accuracy: 0.9422 - val_loss: 0.3578 - val_accuracy: 0.8877\n",
            "Epoch 16/20\n",
            "750/750 [==============================] - 3s 4ms/step - loss: 0.1409 - accuracy: 0.9473 - val_loss: 0.3798 - val_accuracy: 0.8829\n",
            "Epoch 17/20\n",
            "750/750 [==============================] - 3s 4ms/step - loss: 0.1338 - accuracy: 0.9495 - val_loss: 0.3853 - val_accuracy: 0.8844\n",
            "Epoch 18/20\n",
            "750/750 [==============================] - 3s 4ms/step - loss: 0.1249 - accuracy: 0.9528 - val_loss: 0.3904 - val_accuracy: 0.8875\n",
            "Epoch 19/20\n",
            "750/750 [==============================] - 4s 5ms/step - loss: 0.1148 - accuracy: 0.9557 - val_loss: 0.4176 - val_accuracy: 0.8828\n",
            "Epoch 20/20\n",
            "750/750 [==============================] - 3s 4ms/step - loss: 0.1101 - accuracy: 0.9580 - val_loss: 0.4164 - val_accuracy: 0.8784\n"
          ]
        }
      ]
    },
    {
      "cell_type": "code",
      "source": [
        "score = model.evaluate(x_test_array, y_test, steps=math.ceil(10000/32))\n",
        "# checking the test loss and test accuracy\n",
        "print('Model uczony na dekodowanym zbiorze vs zbiór testowy oryginalny')\n",
        "print('Test loss:', score[0])\n",
        "print('Test accuracy:', score[1])"
      ],
      "metadata": {
        "id": "LBWZ9Jyfv0wJ",
        "colab": {
          "base_uri": "https://localhost:8080/"
        },
        "outputId": "1788d712-c072-4861-8cbe-a827b6c9ef94"
      },
      "execution_count": 22,
      "outputs": [
        {
          "output_type": "stream",
          "name": "stdout",
          "text": [
            "313/313 [==============================] - 1s 3ms/step - loss: 1.1297 - accuracy: 0.8147\n",
            "Model uczony na dekodowanym zbiorze vs zbiór testowy oryginalny\n",
            "Test loss: 1.1296663284301758\n",
            "Test accuracy: 0.8147000074386597\n"
          ]
        }
      ]
    },
    {
      "cell_type": "code",
      "source": [
        "score = model.evaluate(x_test_array_2, y_test_2, steps=math.ceil(10000/32))\n",
        "# checking the test loss and test accuracy\n",
        "print('Model uczony na dekodowanym zbiorze vs zbiór testowy dekodowany')\n",
        "print('Test loss:', score[0])\n",
        "print('Test accuracy:', score[1])"
      ],
      "metadata": {
        "colab": {
          "base_uri": "https://localhost:8080/"
        },
        "id": "1VAEOuRe079z",
        "outputId": "5bd5c7c0-e750-45c1-ef64-763adaaf1b8a"
      },
      "execution_count": 23,
      "outputs": [
        {
          "output_type": "stream",
          "name": "stdout",
          "text": [
            "313/313 [==============================] - 1s 3ms/step - loss: 0.4260 - accuracy: 0.8777\n",
            "Model uczony na dekodowanym zbiorze vs zbiór testowy dekodowany\n",
            "Test loss: 0.42603179812431335\n",
            "Test accuracy: 0.8776999711990356\n"
          ]
        }
      ]
    },
    {
      "cell_type": "code",
      "source": [
        "# prepering for data for training\n",
        "validation = 0.2\n",
        "batch_size = 64\n",
        "num_epochs = 20\n",
        "patience = 5\n",
        "\n",
        "# building model\n",
        "model = tf.keras.Sequential()\n",
        "model.add(Conv2D(32, (3,3), padding='same', input_shape=(28,28, 1)))\n",
        "model.add(tf.keras.layers.MaxPooling2D(pool_size=(2, 2)))\n",
        "model.add(Flatten())\n",
        "model.add(Dense(128, activation=tf.nn.relu))\n",
        "model.add(Dense(10, activation=tf.nn.softmax))\n",
        "model.summary()\n",
        "\n",
        "early_stop = tf.keras.callbacks.EarlyStopping(monitor='loss', patience=patience)\n",
        "\n",
        "model.compile(optimizer='adam',\n",
        "              loss=tf.keras.losses.categorical_crossentropy,\n",
        "              metrics=['accuracy'])\n",
        "\n",
        "train_model = model.fit( x_train, y_train,\n",
        "                  batch_size=batch_size,\n",
        "                  epochs=num_epochs,\n",
        "                  validation_data=(x_val, y_val),\n",
        "                  callbacks=[early_stop])"
      ],
      "metadata": {
        "colab": {
          "base_uri": "https://localhost:8080/"
        },
        "id": "tcdCb31_1YJD",
        "outputId": "3f28555c-f5cf-4dc5-ab3c-d8cd0eefa1ca"
      },
      "execution_count": 24,
      "outputs": [
        {
          "output_type": "stream",
          "name": "stdout",
          "text": [
            "Model: \"sequential_3\"\n",
            "_________________________________________________________________\n",
            " Layer (type)                Output Shape              Param #   \n",
            "=================================================================\n",
            " conv2d_3 (Conv2D)           (None, 28, 28, 32)        320       \n",
            "                                                                 \n",
            " max_pooling2d_3 (MaxPooling  (None, 14, 14, 32)       0         \n",
            " 2D)                                                             \n",
            "                                                                 \n",
            " flatten_3 (Flatten)         (None, 6272)              0         \n",
            "                                                                 \n",
            " dense_6 (Dense)             (None, 128)               802944    \n",
            "                                                                 \n",
            " dense_7 (Dense)             (None, 10)                1290      \n",
            "                                                                 \n",
            "=================================================================\n",
            "Total params: 804,554\n",
            "Trainable params: 804,554\n",
            "Non-trainable params: 0\n",
            "_________________________________________________________________\n",
            "Epoch 1/20\n",
            "750/750 [==============================] - 5s 4ms/step - loss: 0.4376 - accuracy: 0.8449 - val_loss: 0.3581 - val_accuracy: 0.8742\n",
            "Epoch 2/20\n",
            "750/750 [==============================] - 3s 4ms/step - loss: 0.2864 - accuracy: 0.8959 - val_loss: 0.2902 - val_accuracy: 0.8961\n",
            "Epoch 3/20\n",
            "750/750 [==============================] - 3s 4ms/step - loss: 0.2315 - accuracy: 0.9165 - val_loss: 0.2680 - val_accuracy: 0.9069\n",
            "Epoch 4/20\n",
            "750/750 [==============================] - 4s 5ms/step - loss: 0.1960 - accuracy: 0.9276 - val_loss: 0.2517 - val_accuracy: 0.9127\n",
            "Epoch 5/20\n",
            "750/750 [==============================] - 3s 4ms/step - loss: 0.1645 - accuracy: 0.9408 - val_loss: 0.2595 - val_accuracy: 0.9087\n",
            "Epoch 6/20\n",
            "750/750 [==============================] - 4s 6ms/step - loss: 0.1397 - accuracy: 0.9496 - val_loss: 0.2621 - val_accuracy: 0.9124\n",
            "Epoch 7/20\n",
            "750/750 [==============================] - 4s 5ms/step - loss: 0.1176 - accuracy: 0.9571 - val_loss: 0.2636 - val_accuracy: 0.9172\n",
            "Epoch 8/20\n",
            "750/750 [==============================] - 4s 5ms/step - loss: 0.0994 - accuracy: 0.9640 - val_loss: 0.2787 - val_accuracy: 0.9174\n",
            "Epoch 9/20\n",
            "750/750 [==============================] - 3s 4ms/step - loss: 0.0818 - accuracy: 0.9715 - val_loss: 0.3191 - val_accuracy: 0.9115\n",
            "Epoch 10/20\n",
            "750/750 [==============================] - 3s 4ms/step - loss: 0.0712 - accuracy: 0.9745 - val_loss: 0.3207 - val_accuracy: 0.9132\n",
            "Epoch 11/20\n",
            "750/750 [==============================] - 3s 4ms/step - loss: 0.0610 - accuracy: 0.9780 - val_loss: 0.3275 - val_accuracy: 0.9171\n",
            "Epoch 12/20\n",
            "750/750 [==============================] - 4s 5ms/step - loss: 0.0495 - accuracy: 0.9831 - val_loss: 0.3520 - val_accuracy: 0.9179\n",
            "Epoch 13/20\n",
            "750/750 [==============================] - 3s 4ms/step - loss: 0.0403 - accuracy: 0.9860 - val_loss: 0.3878 - val_accuracy: 0.9145\n",
            "Epoch 14/20\n",
            "750/750 [==============================] - 3s 4ms/step - loss: 0.0403 - accuracy: 0.9863 - val_loss: 0.4042 - val_accuracy: 0.9141\n",
            "Epoch 15/20\n",
            "750/750 [==============================] - 3s 4ms/step - loss: 0.0323 - accuracy: 0.9890 - val_loss: 0.4186 - val_accuracy: 0.9133\n",
            "Epoch 16/20\n",
            "750/750 [==============================] - 4s 5ms/step - loss: 0.0289 - accuracy: 0.9899 - val_loss: 0.4234 - val_accuracy: 0.9152\n",
            "Epoch 17/20\n",
            "750/750 [==============================] - 3s 4ms/step - loss: 0.0250 - accuracy: 0.9912 - val_loss: 0.4451 - val_accuracy: 0.9128\n",
            "Epoch 18/20\n",
            "750/750 [==============================] - 3s 4ms/step - loss: 0.0215 - accuracy: 0.9929 - val_loss: 0.5041 - val_accuracy: 0.9095\n",
            "Epoch 19/20\n",
            "750/750 [==============================] - 3s 4ms/step - loss: 0.0264 - accuracy: 0.9906 - val_loss: 0.4661 - val_accuracy: 0.9170\n",
            "Epoch 20/20\n",
            "750/750 [==============================] - 3s 4ms/step - loss: 0.0216 - accuracy: 0.9929 - val_loss: 0.5279 - val_accuracy: 0.9122\n"
          ]
        }
      ]
    },
    {
      "cell_type": "code",
      "source": [
        "score = model.evaluate(x_test_array, y_test, steps=math.ceil(10000/32))\n",
        "# checking the test loss and test accuracy\n",
        "print('Model uczony na oryginalnym zbiorze vs zbiór testowy oryginalny')\n",
        "print('Test loss:', score[0])\n",
        "print('Test accuracy:', score[1])"
      ],
      "metadata": {
        "colab": {
          "base_uri": "https://localhost:8080/"
        },
        "id": "ZGiI71jD1dSP",
        "outputId": "5bc2e920-b357-44c6-bd98-eed2c2578d5b"
      },
      "execution_count": 25,
      "outputs": [
        {
          "output_type": "stream",
          "name": "stdout",
          "text": [
            "313/313 [==============================] - 1s 2ms/step - loss: 0.5720 - accuracy: 0.9078\n",
            "Model uczony na oryginalnym zbiorze vs zbiór testowy oryginalny\n",
            "Test loss: 0.5720104575157166\n",
            "Test accuracy: 0.907800018787384\n"
          ]
        }
      ]
    },
    {
      "cell_type": "code",
      "source": [
        "score = model.evaluate(x_test_array_2, y_test_2, steps=math.ceil(10000/32))\n",
        "# checking the test loss and test accuracy\n",
        "print('Model uczony na oryginalnym zbiorze vs zbiór testowy dekodowany')\n",
        "print('Test loss:', score[0])\n",
        "print('Test accuracy:', score[1])"
      ],
      "metadata": {
        "colab": {
          "base_uri": "https://localhost:8080/"
        },
        "id": "EtC32A6s1f_K",
        "outputId": "73f4d286-6077-402c-ee54-6ab13c108b3b"
      },
      "execution_count": 26,
      "outputs": [
        {
          "output_type": "stream",
          "name": "stdout",
          "text": [
            "313/313 [==============================] - 1s 3ms/step - loss: 0.9310 - accuracy: 0.8325\n",
            "Model uczony na oryginalnym zbiorze vs zbiór testowy dekodowany\n",
            "Test loss: 0.9310119152069092\n",
            "Test accuracy: 0.8324999809265137\n"
          ]
        }
      ]
    }
  ]
}